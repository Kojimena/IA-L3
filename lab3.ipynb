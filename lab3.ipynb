{
 "cells": [
  {
   "cell_type": "markdown",
   "metadata": {},
   "source": [
    "## Inteligencia Artificial\n",
    "#### Laboratorio 03\n",
    "Autores:\n",
    "- Mark Albrand/ 21004\n",
    "- Jimena Hernández/ 21199\n",
    "- Melissa Pérez/ 21385"
   ]
  },
  {
   "cell_type": "markdown",
   "metadata": {},
   "source": [
    "## Task 1 - Preguntas Teóricas\n",
    "Responda a cada de las siguientes preguntas de forma clara y lo más completamente posible.\n",
    "1. Explique la diferencia entre descenso de gradiente, descenso de gradiente por mini batches y descenso de gradiente estocástico. Asegúrese de mencionar las ventajas y desventajas de cada enfoque.\n",
    "\n",
    "    - El _descenso de gradiente_ calcula el gradiente de la función de pérdida con respecto a **todos los datos de entrenamiento**. Entre sus ventajas tiene que la convergencia es generalmente estable porque usa la información completa del conjunto de datos. Como desventaja es que puede ser computacionalmente costoso por el cálculo del gradiente en todos los datos de entrenamiento.\n",
    "\n",
    "    - El _descenso de gradiente estocástico_ necesita **un solo ejemplo de entrenamiento** aleatorio para actualizar el modelo calculando la gradiente por medio de iteraciones. Como ventaja tiene que es más eficiente en términos computacionales y es más fácil almacenarlos en memoria. Una desventaja es que pueden resultar gradientes ruidosos por su aletoriedad.\n",
    "    \n",
    "    - El _descenso de gradiente por mini batches_ **divide el conjunto de datos en pequeños lotes** para calcular el gradiente y actualizar los parámetros por cada lote. Logra un equilibrio entre la eficiencia computacional del lote de descenso de gradiente y la velocidad del descenso de gradiente estocástico, lo cual es una ventaja. Como desventaja tienq eu puede quedar atrapado en mínimos locales.\n",
    "\n",
    "    [¿Qué es el descenso de gradiente?](https://www.ibm.com/mx-es/topics/gradient-descent#)"
   ]
  },
  {
   "cell_type": "markdown",
   "metadata": {},
   "source": [
    "2. Compare y contraste técnicas de extracción de features (feature extraction) y selección de features (feature selection) en machine learning. Dé ejemplos de escenarios donde cada técnica sería más apropiada.\n",
    "\n",
    "    - _Feature extraction_ es un proceso que transforma los datos originales en un nuevo conjunto de caracterísitcas. Se enfoca en las más importantes y compactas para combinarlas, de tal forma reducir la dimensionalidad de los features. Un escenario puede ser el reconocimiento facial, porque se tienen muchas características de las cuales se reduciría la cantidad de ellas creando un nuevo conjunto para el reconomiento. \n",
    "    \n",
    "    - _Feature selection_ es un proceso de selección de subconjuntos de características del conjunto original. Básicamente elimina las catacterísticas por medio de una evaluación de importancia o redundancia de cada una. Un ejemplo, es que al tener un conjunto de datos con muchas características y donde se sospecha que algunas son irrelevantes, se puede aplicar una selección de features para tomar las relevantes.\n",
    "\n",
    "    - Comparandándolas, ambas técnicas buscan mejorar el rendimiento del modelo para reducir dimensionalidad o características irrelevantes. Su diferencia es que _feature extraction_ crea **nuevas** características a partir de las originales y _feature selection_ elige **un subconjunto** de las características originales.\n",
    "\n",
    "    [Difference Between Feature Selection and Feature Extraction](https://www.geeksforgeeks.org/difference-between-feature-selection-and-feature-extraction/)"
   ]
  },
  {
   "cell_type": "markdown",
   "metadata": {},
   "source": [
    "3. Describa la arquitectura y el funcionamiento de un perceptrón de una sola capa (un tipo de red neuronal sin backpropagation). Explique cómo aprende y la forma en la que actualiza sus parámetros.\n",
    "    - Un perceptrón de una sola capa o perceptrón simple, es un bloque de construcción básico en las redes neuronales. Consta de una capa de entrada con _n_ neuronas y otra de salida con _m_ neuronas. Aprende por medio de funciones lineales separables y de un proceso iterativo que se conforma con una capa de procesamiento, ajustes de pesos y una función de activación. Actualiza sus parámetros con un algoritmo de aprendizaje supervisado para reducir la diferencia entre la salida predicha con la real.\n",
    "\n",
    "    [El perceptrón: una red neuronal artificial para clasificar datos](https://www.economicas.uba.ar/wp-content/uploads/2016/04/Garcia-Roberto-1.pdf)"
   ]
  },
  {
   "cell_type": "markdown",
   "metadata": {},
   "source": [
    "## Task 2 - Ejercicios Prácticos"
   ]
  },
  {
   "cell_type": "markdown",
   "metadata": {},
   "source": [
    "### Task 2.1 - Gradiente Descendiente Estocástico\n",
    "Usando como polinomio: 2x^3 - 3x^2 + 5x + 3, implemente el algoritmo de gradiente descendiente estocástico, el descenso de gradiente por mini batches y el descenso de gradiente. "
   ]
  },
  {
   "cell_type": "code",
   "execution_count": 1,
   "metadata": {
    "ExecuteTime": {
     "end_time": "2024-02-05T02:19:44.541103800Z",
     "start_time": "2024-02-05T02:19:44.373191500Z"
    }
   },
   "outputs": [],
   "source": [
    "# Gradiente descendiente estocástico\n",
    "import numpy as np "
   ]
  },
  {
   "cell_type": "code",
   "execution_count": 2,
   "metadata": {
    "ExecuteTime": {
     "end_time": "2024-02-05T02:19:44.552244300Z",
     "start_time": "2024-02-05T02:19:44.541103800Z"
    }
   },
   "outputs": [
    {
     "data": {
      "text/plain": "[2, -3, 5, 3]"
     },
     "execution_count": 2,
     "metadata": {},
     "output_type": "execute_result"
    }
   ],
   "source": [
    "polinomio = [2, -3, 5, 3]  # 2x^3 - 3x^2 + 5x + 3\n",
    "polinomio"
   ]
  },
  {
   "cell_type": "code",
   "execution_count": 233,
   "metadata": {
    "ExecuteTime": {
     "end_time": "2024-02-05T03:08:28.986121200Z",
     "start_time": "2024-02-05T03:08:28.977487500Z"
    }
   },
   "outputs": [],
   "source": [
    "np.random.seed(0)\n",
    "X = np.linspace(-5, 5, 1000)\n",
    "y = []  # Valores de y, f(x)\n",
    "\n",
    "for x in X:\n",
    "    y.append(np.polyval(polinomio, x))"
   ]
  },
  {
   "cell_type": "code",
   "outputs": [
    {
     "data": {
      "text/plain": "<Figure size 640x480 with 1 Axes>",
      "image/png": "[encoded data removed]"
     },
     "metadata": {},
     "output_type": "display_data"
    }
   ],
   "source": [
    "# graficar x vs y\n",
    "import matplotlib.pyplot as plt\n",
    "\n",
    "plt.plot(X, y)\n",
    "plt.show()"
   ],
   "metadata": {
    "collapsed": false,
    "ExecuteTime": {
     "end_time": "2024-02-05T03:08:29.303533800Z",
     "start_time": "2024-02-05T03:08:29.238950400Z"
    }
   },
   "execution_count": 234
  },
  {
   "cell_type": "code",
   "execution_count": 235,
   "metadata": {
    "ExecuteTime": {
     "end_time": "2024-02-05T03:08:30.616541600Z",
     "start_time": "2024-02-05T03:08:30.609419200Z"
    }
   },
   "outputs": [
    {
     "name": "stdout",
     "output_type": "stream",
     "text": [
      "Pesos iniciales: [1.76405235 0.40015721 0.97873798 2.2408932 ]\n"
     ]
    }
   ],
   "source": [
    "w = np.random.randn(4)  # Inicialización de los pesos\n",
    "\n",
    "alpha = 0.001  # Tasa de aprendizaje\n",
    "iteraciones = 100  # Número de iteraciones\n",
    "\n",
    "print(\"Pesos iniciales:\", w)"
   ]
  },
  {
   "cell_type": "code",
   "execution_count": 236,
   "metadata": {
    "ExecuteTime": {
     "end_time": "2024-02-05T03:08:31.107819300Z",
     "start_time": "2024-02-05T03:08:31.100803200Z"
    }
   },
   "outputs": [],
   "source": [
    "def gradiente_polinomio(X: int):\n",
    "    derivada = np.polyder(polinomio)\n",
    "    return np.polyval(derivada, X)"
   ]
  },
  {
   "cell_type": "code",
   "execution_count": 237,
   "metadata": {
    "ExecuteTime": {
     "end_time": "2024-02-05T03:08:31.450153300Z",
     "start_time": "2024-02-05T03:08:31.436070100Z"
    }
   },
   "outputs": [],
   "source": [
    "def stochastic_gradient_descent(X, y, w, alpha, iteraciones):\n",
    "    graph = np.zeros(iteraciones)\n",
    "    m = len(y)\n",
    "    errores = []\n",
    "\n",
    "    for i in range(iteraciones): #iteraciones\n",
    "        randon_index = np.random.randint(0,m)\n",
    "\n",
    "        xi = X[randon_index:randon_index+1] #valor random de x\n",
    "        yi = y[randon_index:randon_index+1] #valor real del random x\n",
    "        # predicciones\n",
    "        y_pred = np.polyval(w, xi)\n",
    "        error = yi - y_pred\n",
    "        \n",
    "        # print(error)\n",
    "        errores.append(error)\n",
    "\n",
    "        gradients = gradiente_polinomio(xi)\n",
    "        gradiente = np.clip(gradients, -1, 1)\n",
    "        w = w - alpha * gradiente\n",
    "        \n",
    "    print(\"MEAN\",np.mean(errores))\n",
    "\n",
    "    return w, graph\n",
    "        "
   ]
  },
  {
   "cell_type": "markdown",
   "metadata": {},
   "source": [
    "## pasos\n",
    "1. Copiar los parámetros de la función, grados del polinomio, etc\n",
    "2. Iterar por cada epoca \n",
    "3. Elegir un elemento de X a la vez\n",
    "4. Calcular las predicciones\n",
    "5. Calcular el error\n",
    "6. Gradiante\n",
    "7. Actualizar los pesos"
   ]
  },
  {
   "cell_type": "code",
   "execution_count": 245,
   "metadata": {
    "ExecuteTime": {
     "end_time": "2024-02-05T03:08:36.847297Z",
     "start_time": "2024-02-05T03:08:36.839720400Z"
    }
   },
   "outputs": [
    {
     "name": "stdout",
     "output_type": "stream",
     "text": [
      "MEAN -22.9671021789882\n",
      "Tiempo de ejecución: 0.005366802215576172\n"
     ]
    }
   ],
   "source": [
    "from time import time\n",
    "start = time()\n",
    "nuevos_w_sdg, graph = stochastic_gradient_descent(X, y, w, alpha, iteraciones)\n",
    "end = time()\n",
    "print(\"Tiempo de ejecución:\", end - start)"
   ]
  },
  {
   "cell_type": "code",
   "execution_count": 246,
   "metadata": {
    "ExecuteTime": {
     "end_time": "2024-02-05T03:08:43.731174600Z",
     "start_time": "2024-02-05T03:08:43.726137600Z"
    }
   },
   "outputs": [
    {
     "name": "stdout",
     "output_type": "stream",
     "text": [
      "[1.66405235 0.30015721 0.87873798 2.1408932 ]\n"
     ]
    }
   ],
   "source": [
    "print(nuevos_w_sdg)"
   ]
  },
  {
   "cell_type": "markdown",
   "metadata": {},
   "source": [
    "### Task 2.1 - Gradiente Descendiente\n"
   ]
  },
  {
   "cell_type": "code",
   "execution_count": 208,
   "metadata": {
    "ExecuteTime": {
     "end_time": "2024-02-05T03:04:11.278884Z",
     "start_time": "2024-02-05T03:04:11.269353400Z"
    }
   },
   "outputs": [],
   "source": [
    "#Gradiente Descendiente \n",
    "def gradient_descent(X, y, w, alpha, iteraciones):\n",
    "    graph = np.zeros(iteraciones)\n",
    "    m = len(y)\n",
    "    for i in range(iteraciones): #iteraciones\n",
    "\n",
    "        # predicciones\n",
    "        y_pred = np.polyval(w, X[i])\n",
    "        error = y[i] - y_pred\n",
    "\n",
    "        gradients = gradiente_polinomio(X[i])\n",
    "        gradiente = np.clip(gradients, -1, 1)\n",
    "        w = w - alpha * gradiente * error\n",
    "\n",
    "    return w, graph\n"
   ]
  },
  {
   "cell_type": "code",
   "execution_count": 205,
   "metadata": {
    "ExecuteTime": {
     "end_time": "2024-02-05T03:02:06.964655400Z",
     "start_time": "2024-02-05T03:02:06.957521100Z"
    }
   },
   "outputs": [
    {
     "name": "stdout",
     "output_type": "stream",
     "text": [
      "-133.84459024189536\n",
      "-115.2404563448926\n",
      "-100.14553357166298\n",
      "-87.81611546216615\n",
      "-77.68086773620473\n",
      "-69.29750275297593\n",
      "-62.32108285195133\n",
      "-56.480649405824494\n",
      "-51.56186105818534\n",
      "-47.39400313179331\n",
      "-43.84020074101869\n",
      "-40.78999711933736\n",
      "-38.15369047636901\n",
      "-35.857987266887676\n",
      "-33.84264743978085\n",
      "-32.05788198468365\n",
      "-30.462324537710657\n",
      "-29.021443643809278\n",
      "-27.7062951947499\n",
      "-26.492538879599337\n",
      "-25.359660550540298\n",
      "-24.290355902766265\n",
      "-23.27004100320783\n",
      "-22.286462855663785\n",
      "-21.329388998462903\n",
      "-20.39035956364608\n",
      "-19.46248862955253\n",
      "-18.540304328176184\n",
      "-17.61961921618497\n",
      "-16.6974240276405\n",
      "-15.771799205355624\n",
      "-14.841839638152926\n",
      "-13.907588874800911\n",
      "-12.96997978874225\n",
      "-12.030779265928777\n",
      "-11.092535007205711\n",
      "-10.158522995810568\n",
      "-9.232694593247853\n",
      "-8.319622602344904\n",
      "-7.424445980601387\n",
      "-6.552813203360332\n",
      "-5.710824566287549\n",
      "-4.904973980261506\n",
      "-4.142091048352086\n",
      "-3.429284423065635\n",
      "-2.773887621493457\n",
      "-2.1834086259027\n",
      "-1.6654847179057157\n",
      "-1.227844086931233\n",
      "-0.878275820862517\n",
      "-0.6246099324074117\n",
      "-0.4747091045944889\n",
      "-0.43647385997217825\n",
      "-0.5178628795557696\n",
      "-0.7269302300028722\n",
      "-1.0718813133792464\n",
      "-1.5611494475559224\n",
      "-2.2034951331178547\n",
      "-3.008130283271093\n",
      "-3.9848700078333046\n",
      "-5.144314975379368\n",
      "-6.498067957369821\n",
      "-8.058988918096038\n",
      "-9.841493994648502\n",
      "-11.86190496064364\n",
      "-14.138857346308653\n",
      "-16.69377737083325\n",
      "-19.551440325352175\n",
      "-22.740626146878306\n",
      "-26.294891798919583\n",
      "-30.253484921353433\n",
      "-34.66242928606478\n",
      "-39.57582022732678\n",
      "-45.05737783809761\n",
      "-51.18231789817224\n",
      "-58.03961596466572\n",
      "-65.73475977857726\n",
      "-74.39311040136862\n",
      "-84.16402498506339\n",
      "-95.22593604819215\n",
      "-107.7926365810651\n",
      "-122.12109126279793\n",
      "-138.52118695877218\n",
      "-157.36795780993592\n",
      "-179.11698158215682\n",
      "-204.32385810737043\n",
      "-233.66896626320886\n",
      "-267.9890787053596\n",
      "-308.3179290947689\n",
      "-355.9385244380493\n",
      "-412.4509448059703\n",
      "-479.8606718248773\n",
      "-560.6942742402491\n",
      "-658.1517503500904\n",
      "-776.3082649251226\n",
      "-920.3828279960578\n",
      "-1097.0982320920484\n",
      "-1315.1661492657174\n",
      "-1585.944944830921\n",
      "-1924.3373434624932\n",
      "MEAN -140.37749438895986\n",
      "Tiempo de ejecución: 0.003525257110595703\n"
     ]
    }
   ],
   "source": [
    "from time import time\n",
    "start = time()\n",
    "nuevos_w_gd, graph = gradient_descent(X, y, w, alpha, iteraciones)\n",
    "end = time()\n",
    "print(\"Tiempo de ejecución:\", end - start)\n"
   ]
  },
  {
   "cell_type": "code",
   "execution_count": 32,
   "metadata": {
    "ExecuteTime": {
     "end_time": "2024-02-05T02:28:41.195583800Z",
     "start_time": "2024-02-05T02:28:41.185372500Z"
    }
   },
   "outputs": [
    {
     "name": "stdout",
     "output_type": "stream",
     "text": [
      "Pesos finales: [15.80180178 14.43790665 15.01648742 16.27864264]\n"
     ]
    }
   ],
   "source": [
    "print (\"Pesos finales:\", nuevos_w_gd)"
   ]
  },
  {
   "cell_type": "markdown",
   "metadata": {},
   "source": [
    "### Task 2.1 - Gradiente Descendiente mini batches\n"
   ]
  },
  {
   "cell_type": "code",
   "execution_count": 14,
   "metadata": {
    "ExecuteTime": {
     "end_time": "2024-02-05T02:20:20.569454Z",
     "start_time": "2024-02-05T02:20:20.564940100Z"
    }
   },
   "outputs": [],
   "source": [
    "import numpy as np\n",
    "\n",
    "def minibatch_gradient_descent(X, y, w, alpha, iteraciones, batch_size):\n",
    "    graph = np.zeros(iteraciones)\n",
    "    m = len(y)\n",
    "    n_batches = m // batch_size\n",
    "    \n",
    "    for i in range(iteraciones):\n",
    "        # Mezclar los datos para asegurar aleatoriedad en la selección de minibatches\n",
    "        indices = np.random.permutation(m)\n",
    "        X_shuffled = X[indices]\n",
    "        y_shuffled = []\n",
    "        for idx in range(len(indices)):\n",
    "            y_shuffled.append(y[idx])\n",
    "        \n",
    "        for batch in range(n_batches):\n",
    "            start_index = batch * batch_size\n",
    "            end_index = start_index + batch_size\n",
    "            X_batch = X_shuffled[start_index:end_index]\n",
    "            y_batch = y_shuffled[start_index:end_index]\n",
    "            \n",
    "            # Calcular predicciones para el minibatch\n",
    "            y_pred = np.polyval(w, X_batch)\n",
    "            \n",
    "            # Calcular el error para el minibatch\n",
    "            error = y_batch - y_pred\n",
    "            \n",
    "            # Calcular el gradiente para el minibatch\n",
    "            gradients = np.mean([gradiente_polinomio(x) for x in X_batch], axis=0)\n",
    "            gradiente = np.clip(gradients, -1, 1)\n",
    "            \n",
    "            # Actualizar los pesos\n",
    "            w = w - alpha * gradiente * np.mean(error)\n",
    "            \n",
    "            # Opcional: guardar o calcular métricas de interés en 'graph' para su posterior análisis\n",
    "            \n",
    "    return w, graph\n"
   ]
  },
  {
   "cell_type": "code",
   "execution_count": 16,
   "metadata": {
    "ExecuteTime": {
     "end_time": "2024-02-05T02:20:29.750618700Z",
     "start_time": "2024-02-05T02:20:29.702234200Z"
    }
   },
   "outputs": [
    {
     "name": "stdout",
     "output_type": "stream",
     "text": [
      "Tiempo de ejecución: 0.04501223564147949\n",
      "[17.57527767 16.21138253 16.78996331 18.05211852]\n"
     ]
    }
   ],
   "source": [
    "from time import time\n",
    "start = time()\n",
    "nuevos_w_mb, graph = minibatch_gradient_descent(X, y, w, alpha, iteraciones, 55)\n",
    "end = time()\n",
    "\n",
    "print(\"Tiempo de ejecución:\", end - start)\n",
    "\n",
    "print(nuevos_w_mb)"
   ]
  },
  {
   "cell_type": "markdown",
   "metadata": {},
   "source": [
    "### Tiempos de ejecución\n",
    "\n",
    "- Gradiente Descendiente Estocástico : 0.00021\n",
    "- Gradiente Descendiente : 0.0028\n",
    "- Gradiente Descendiente Minibatches: 0.0445\n",
    "\n",
    "El método más rápido fue Gradiente Descendiente Estocástico con 0.00021 esto debido a que solo toma un valor al azar y no el dataset completo, ya que esto es mas costoso al igual que la realización de los minibatches"
   ]
  },
  {
   "cell_type": "code",
   "outputs": [
    {
     "name": "stdout",
     "output_type": "stream",
     "text": [
      "MSE SGD: 2063.0034719121822\n",
      "MSE GD: 505500.6948207703\n",
      "MSE MB: 619914.2479802041\n"
     ]
    }
   ],
   "source": [
    "# fitness\n",
    "from sklearn.metrics import mean_squared_error\n",
    "\n",
    "y_pred_sgd = np.polyval(nuevos_w_sdg, X)\n",
    "y_pred_gd = np.polyval(nuevos_w_gd, X)\n",
    "y_pred_mb = np.polyval(nuevos_w_mb, X)\n",
    "\n",
    "mse_sgd = mean_squared_error(y, y_pred_sgd)\n",
    "mse_gd = mean_squared_error(y, y_pred_gd)\n",
    "mse_mb = mean_squared_error(y, y_pred_mb)\n",
    "\n",
    "print(\"MSE SGD:\", mse_sgd)\n",
    "print(\"MSE GD:\", mse_gd)\n",
    "print(\"MSE MB:\", mse_mb)\n"
   ],
   "metadata": {
    "collapsed": false,
    "ExecuteTime": {
     "end_time": "2024-02-05T03:08:47.645965100Z",
     "start_time": "2024-02-05T03:08:47.636368Z"
    }
   },
   "execution_count": 247
  },
  {
   "cell_type": "code",
   "outputs": [
    {
     "data": {
      "text/plain": "<Figure size 640x480 with 1 Axes>",
      "image/png": "[encoded data removed]"
     },
     "metadata": {},
     "output_type": "display_data"
    }
   ],
   "source": [
    "# graficar x vs y\n",
    "plt.plot(X, y)\n",
    "plt.show()"
   ],
   "metadata": {
    "collapsed": false,
    "ExecuteTime": {
     "end_time": "2024-02-05T03:08:50.477614300Z",
     "start_time": "2024-02-05T03:08:50.419352600Z"
    }
   },
   "execution_count": 248
  },
  {
   "cell_type": "code",
   "outputs": [
    {
     "data": {
      "text/plain": "<Figure size 640x480 with 1 Axes>",
      "image/png": "[encoded data removed]"
     },
     "metadata": {},
     "output_type": "display_data"
    }
   ],
   "source": [
    "# graficar x vs y_pred_sgd\n",
    "plt.plot(X, y_pred_sgd)\n",
    "plt.show()"
   ],
   "metadata": {
    "collapsed": false,
    "ExecuteTime": {
     "end_time": "2024-02-05T03:08:52.129406700Z",
     "start_time": "2024-02-05T03:08:52.067566300Z"
    }
   },
   "execution_count": 249
  },
  {
   "cell_type": "code",
   "outputs": [
    {
     "data": {
      "text/plain": "<Figure size 640x480 with 1 Axes>",
      "image/png": "[encoded data removed]"
     },
     "metadata": {},
     "output_type": "display_data"
    }
   ],
   "source": [
    "# graficar x vs y_pred_gd\n",
    "plt.plot(X, y_pred_gd)\n",
    "plt.show()"
   ],
   "metadata": {
    "collapsed": false,
    "ExecuteTime": {
     "end_time": "2024-02-05T02:24:35.175503Z",
     "start_time": "2024-02-05T02:24:35.137398Z"
    }
   },
   "execution_count": 23
  },
  {
   "cell_type": "code",
   "outputs": [
    {
     "data": {
      "text/plain": "<Figure size 640x480 with 1 Axes>",
      "image/png": "[encoded data removed]"
     },
     "metadata": {},
     "output_type": "display_data"
    }
   ],
   "source": [
    "# graficar x vs y_pred_mb\n",
    "plt.plot(X, y_pred_mb)\n",
    "plt.show()"
   ],
   "metadata": {
    "collapsed": false,
    "ExecuteTime": {
     "end_time": "2024-02-05T02:24:49.422288800Z",
     "start_time": "2024-02-05T02:24:49.369315200Z"
    }
   },
   "execution_count": 24
  },
  {
   "cell_type": "markdown",
   "metadata": {},
   "source": [
    "### Task 2.2 - Feature Selection"
   ]
  },
  {
   "cell_type": "markdown",
   "metadata": {},
   "source": [
    "#### Método de filtrado"
   ]
  },
  {
   "cell_type": "code",
   "execution_count": 365,
   "metadata": {},
   "outputs": [],
   "source": [
    "import numpy as np\n",
    "import matplotlib.pyplot as plt\n",
    "import pandas as pd"
   ]
  },
  {
   "cell_type": "code",
   "execution_count": 366,
   "metadata": {},
   "outputs": [
    {
     "data": {
      "text/html": [
       "<div>\n",
       "<style scoped>\n",
       "    .dataframe tbody tr th:only-of-type {\n",
       "        vertical-align: middle;\n",
       "    }\n",
       "\n",
       "    .dataframe tbody tr th {\n",
       "        vertical-align: top;\n",
       "    }\n",
       "\n",
       "    .dataframe thead th {\n",
       "        text-align: right;\n",
       "    }\n",
       "</style>\n",
       "<table border=\"1\" class=\"dataframe\">\n",
       "  <thead>\n",
       "    <tr style=\"text-align: right;\">\n",
       "      <th></th>\n",
       "      <th>gameId</th>\n",
       "      <th>blueWins</th>\n",
       "      <th>blueWardsPlaced</th>\n",
       "      <th>blueWardsDestroyed</th>\n",
       "      <th>blueFirstBlood</th>\n",
       "      <th>blueKills</th>\n",
       "      <th>blueDeaths</th>\n",
       "      <th>blueAssists</th>\n",
       "      <th>blueEliteMonsters</th>\n",
       "      <th>blueDragons</th>\n",
       "      <th>...</th>\n",
       "      <th>redTowersDestroyed</th>\n",
       "      <th>redTotalGold</th>\n",
       "      <th>redAvgLevel</th>\n",
       "      <th>redTotalExperience</th>\n",
       "      <th>redTotalMinionsKilled</th>\n",
       "      <th>redTotalJungleMinionsKilled</th>\n",
       "      <th>redGoldDiff</th>\n",
       "      <th>redExperienceDiff</th>\n",
       "      <th>redCSPerMin</th>\n",
       "      <th>redGoldPerMin</th>\n",
       "    </tr>\n",
       "  </thead>\n",
       "  <tbody>\n",
       "    <tr>\n",
       "      <th>0</th>\n",
       "      <td>4519157822</td>\n",
       "      <td>0</td>\n",
       "      <td>28</td>\n",
       "      <td>2</td>\n",
       "      <td>1</td>\n",
       "      <td>9</td>\n",
       "      <td>6</td>\n",
       "      <td>11</td>\n",
       "      <td>0</td>\n",
       "      <td>0</td>\n",
       "      <td>...</td>\n",
       "      <td>0</td>\n",
       "      <td>16567</td>\n",
       "      <td>6.8</td>\n",
       "      <td>17047</td>\n",
       "      <td>197</td>\n",
       "      <td>55</td>\n",
       "      <td>-643</td>\n",
       "      <td>8</td>\n",
       "      <td>19.7</td>\n",
       "      <td>1656.7</td>\n",
       "    </tr>\n",
       "    <tr>\n",
       "      <th>1</th>\n",
       "      <td>4523371949</td>\n",
       "      <td>0</td>\n",
       "      <td>12</td>\n",
       "      <td>1</td>\n",
       "      <td>0</td>\n",
       "      <td>5</td>\n",
       "      <td>5</td>\n",
       "      <td>5</td>\n",
       "      <td>0</td>\n",
       "      <td>0</td>\n",
       "      <td>...</td>\n",
       "      <td>1</td>\n",
       "      <td>17620</td>\n",
       "      <td>6.8</td>\n",
       "      <td>17438</td>\n",
       "      <td>240</td>\n",
       "      <td>52</td>\n",
       "      <td>2908</td>\n",
       "      <td>1173</td>\n",
       "      <td>24.0</td>\n",
       "      <td>1762.0</td>\n",
       "    </tr>\n",
       "    <tr>\n",
       "      <th>2</th>\n",
       "      <td>4521474530</td>\n",
       "      <td>0</td>\n",
       "      <td>15</td>\n",
       "      <td>0</td>\n",
       "      <td>0</td>\n",
       "      <td>7</td>\n",
       "      <td>11</td>\n",
       "      <td>4</td>\n",
       "      <td>1</td>\n",
       "      <td>1</td>\n",
       "      <td>...</td>\n",
       "      <td>0</td>\n",
       "      <td>17285</td>\n",
       "      <td>6.8</td>\n",
       "      <td>17254</td>\n",
       "      <td>203</td>\n",
       "      <td>28</td>\n",
       "      <td>1172</td>\n",
       "      <td>1033</td>\n",
       "      <td>20.3</td>\n",
       "      <td>1728.5</td>\n",
       "    </tr>\n",
       "    <tr>\n",
       "      <th>3</th>\n",
       "      <td>4524384067</td>\n",
       "      <td>0</td>\n",
       "      <td>43</td>\n",
       "      <td>1</td>\n",
       "      <td>0</td>\n",
       "      <td>4</td>\n",
       "      <td>5</td>\n",
       "      <td>5</td>\n",
       "      <td>1</td>\n",
       "      <td>0</td>\n",
       "      <td>...</td>\n",
       "      <td>0</td>\n",
       "      <td>16478</td>\n",
       "      <td>7.0</td>\n",
       "      <td>17961</td>\n",
       "      <td>235</td>\n",
       "      <td>47</td>\n",
       "      <td>1321</td>\n",
       "      <td>7</td>\n",
       "      <td>23.5</td>\n",
       "      <td>1647.8</td>\n",
       "    </tr>\n",
       "    <tr>\n",
       "      <th>4</th>\n",
       "      <td>4436033771</td>\n",
       "      <td>0</td>\n",
       "      <td>75</td>\n",
       "      <td>4</td>\n",
       "      <td>0</td>\n",
       "      <td>6</td>\n",
       "      <td>6</td>\n",
       "      <td>6</td>\n",
       "      <td>0</td>\n",
       "      <td>0</td>\n",
       "      <td>...</td>\n",
       "      <td>0</td>\n",
       "      <td>17404</td>\n",
       "      <td>7.0</td>\n",
       "      <td>18313</td>\n",
       "      <td>225</td>\n",
       "      <td>67</td>\n",
       "      <td>1004</td>\n",
       "      <td>-230</td>\n",
       "      <td>22.5</td>\n",
       "      <td>1740.4</td>\n",
       "    </tr>\n",
       "    <tr>\n",
       "      <th>...</th>\n",
       "      <td>...</td>\n",
       "      <td>...</td>\n",
       "      <td>...</td>\n",
       "      <td>...</td>\n",
       "      <td>...</td>\n",
       "      <td>...</td>\n",
       "      <td>...</td>\n",
       "      <td>...</td>\n",
       "      <td>...</td>\n",
       "      <td>...</td>\n",
       "      <td>...</td>\n",
       "      <td>...</td>\n",
       "      <td>...</td>\n",
       "      <td>...</td>\n",
       "      <td>...</td>\n",
       "      <td>...</td>\n",
       "      <td>...</td>\n",
       "      <td>...</td>\n",
       "      <td>...</td>\n",
       "      <td>...</td>\n",
       "      <td>...</td>\n",
       "    </tr>\n",
       "    <tr>\n",
       "      <th>9874</th>\n",
       "      <td>4527873286</td>\n",
       "      <td>1</td>\n",
       "      <td>17</td>\n",
       "      <td>2</td>\n",
       "      <td>1</td>\n",
       "      <td>7</td>\n",
       "      <td>4</td>\n",
       "      <td>5</td>\n",
       "      <td>1</td>\n",
       "      <td>1</td>\n",
       "      <td>...</td>\n",
       "      <td>0</td>\n",
       "      <td>15246</td>\n",
       "      <td>6.8</td>\n",
       "      <td>16498</td>\n",
       "      <td>229</td>\n",
       "      <td>34</td>\n",
       "      <td>-2519</td>\n",
       "      <td>-2469</td>\n",
       "      <td>22.9</td>\n",
       "      <td>1524.6</td>\n",
       "    </tr>\n",
       "    <tr>\n",
       "      <th>9875</th>\n",
       "      <td>4527797466</td>\n",
       "      <td>1</td>\n",
       "      <td>54</td>\n",
       "      <td>0</td>\n",
       "      <td>0</td>\n",
       "      <td>6</td>\n",
       "      <td>4</td>\n",
       "      <td>8</td>\n",
       "      <td>1</td>\n",
       "      <td>1</td>\n",
       "      <td>...</td>\n",
       "      <td>0</td>\n",
       "      <td>15456</td>\n",
       "      <td>7.0</td>\n",
       "      <td>18367</td>\n",
       "      <td>206</td>\n",
       "      <td>56</td>\n",
       "      <td>-782</td>\n",
       "      <td>-888</td>\n",
       "      <td>20.6</td>\n",
       "      <td>1545.6</td>\n",
       "    </tr>\n",
       "    <tr>\n",
       "      <th>9876</th>\n",
       "      <td>4527713716</td>\n",
       "      <td>0</td>\n",
       "      <td>23</td>\n",
       "      <td>1</td>\n",
       "      <td>0</td>\n",
       "      <td>6</td>\n",
       "      <td>7</td>\n",
       "      <td>5</td>\n",
       "      <td>0</td>\n",
       "      <td>0</td>\n",
       "      <td>...</td>\n",
       "      <td>0</td>\n",
       "      <td>18319</td>\n",
       "      <td>7.4</td>\n",
       "      <td>19909</td>\n",
       "      <td>261</td>\n",
       "      <td>60</td>\n",
       "      <td>2416</td>\n",
       "      <td>1877</td>\n",
       "      <td>26.1</td>\n",
       "      <td>1831.9</td>\n",
       "    </tr>\n",
       "    <tr>\n",
       "      <th>9877</th>\n",
       "      <td>4527628313</td>\n",
       "      <td>0</td>\n",
       "      <td>14</td>\n",
       "      <td>4</td>\n",
       "      <td>1</td>\n",
       "      <td>2</td>\n",
       "      <td>3</td>\n",
       "      <td>3</td>\n",
       "      <td>1</td>\n",
       "      <td>1</td>\n",
       "      <td>...</td>\n",
       "      <td>0</td>\n",
       "      <td>15298</td>\n",
       "      <td>7.2</td>\n",
       "      <td>18314</td>\n",
       "      <td>247</td>\n",
       "      <td>40</td>\n",
       "      <td>839</td>\n",
       "      <td>1085</td>\n",
       "      <td>24.7</td>\n",
       "      <td>1529.8</td>\n",
       "    </tr>\n",
       "    <tr>\n",
       "      <th>9878</th>\n",
       "      <td>4523772935</td>\n",
       "      <td>1</td>\n",
       "      <td>18</td>\n",
       "      <td>0</td>\n",
       "      <td>1</td>\n",
       "      <td>6</td>\n",
       "      <td>6</td>\n",
       "      <td>5</td>\n",
       "      <td>0</td>\n",
       "      <td>0</td>\n",
       "      <td>...</td>\n",
       "      <td>0</td>\n",
       "      <td>15339</td>\n",
       "      <td>6.8</td>\n",
       "      <td>17379</td>\n",
       "      <td>201</td>\n",
       "      <td>46</td>\n",
       "      <td>-927</td>\n",
       "      <td>58</td>\n",
       "      <td>20.1</td>\n",
       "      <td>1533.9</td>\n",
       "    </tr>\n",
       "  </tbody>\n",
       "</table>\n",
       "<p>9879 rows × 40 columns</p>\n",
       "</div>"
      ],
      "text/plain": [
       "          gameId  blueWins  blueWardsPlaced  blueWardsDestroyed  \\\n",
       "0     4519157822         0               28                   2   \n",
       "1     4523371949         0               12                   1   \n",
       "2     4521474530         0               15                   0   \n",
       "3     4524384067         0               43                   1   \n",
       "4     4436033771         0               75                   4   \n",
       "...          ...       ...              ...                 ...   \n",
       "9874  4527873286         1               17                   2   \n",
       "9875  4527797466         1               54                   0   \n",
       "9876  4527713716         0               23                   1   \n",
       "9877  4527628313         0               14                   4   \n",
       "9878  4523772935         1               18                   0   \n",
       "\n",
       "      blueFirstBlood  blueKills  blueDeaths  blueAssists  blueEliteMonsters  \\\n",
       "0                  1          9           6           11                  0   \n",
       "1                  0          5           5            5                  0   \n",
       "2                  0          7          11            4                  1   \n",
       "3                  0          4           5            5                  1   \n",
       "4                  0          6           6            6                  0   \n",
       "...              ...        ...         ...          ...                ...   \n",
       "9874               1          7           4            5                  1   \n",
       "9875               0          6           4            8                  1   \n",
       "9876               0          6           7            5                  0   \n",
       "9877               1          2           3            3                  1   \n",
       "9878               1          6           6            5                  0   \n",
       "\n",
       "      blueDragons  ...  redTowersDestroyed  redTotalGold  redAvgLevel  \\\n",
       "0               0  ...                   0         16567          6.8   \n",
       "1               0  ...                   1         17620          6.8   \n",
       "2               1  ...                   0         17285          6.8   \n",
       "3               0  ...                   0         16478          7.0   \n",
       "4               0  ...                   0         17404          7.0   \n",
       "...           ...  ...                 ...           ...          ...   \n",
       "9874            1  ...                   0         15246          6.8   \n",
       "9875            1  ...                   0         15456          7.0   \n",
       "9876            0  ...                   0         18319          7.4   \n",
       "9877            1  ...                   0         15298          7.2   \n",
       "9878            0  ...                   0         15339          6.8   \n",
       "\n",
       "      redTotalExperience  redTotalMinionsKilled  redTotalJungleMinionsKilled  \\\n",
       "0                  17047                    197                           55   \n",
       "1                  17438                    240                           52   \n",
       "2                  17254                    203                           28   \n",
       "3                  17961                    235                           47   \n",
       "4                  18313                    225                           67   \n",
       "...                  ...                    ...                          ...   \n",
       "9874               16498                    229                           34   \n",
       "9875               18367                    206                           56   \n",
       "9876               19909                    261                           60   \n",
       "9877               18314                    247                           40   \n",
       "9878               17379                    201                           46   \n",
       "\n",
       "      redGoldDiff  redExperienceDiff  redCSPerMin  redGoldPerMin  \n",
       "0            -643                  8         19.7         1656.7  \n",
       "1            2908               1173         24.0         1762.0  \n",
       "2            1172               1033         20.3         1728.5  \n",
       "3            1321                  7         23.5         1647.8  \n",
       "4            1004               -230         22.5         1740.4  \n",
       "...           ...                ...          ...            ...  \n",
       "9874        -2519              -2469         22.9         1524.6  \n",
       "9875         -782               -888         20.6         1545.6  \n",
       "9876         2416               1877         26.1         1831.9  \n",
       "9877          839               1085         24.7         1529.8  \n",
       "9878         -927                 58         20.1         1533.9  \n",
       "\n",
       "[9879 rows x 40 columns]"
      ]
     },
     "execution_count": 366,
     "metadata": {},
     "output_type": "execute_result"
    }
   ],
   "source": [
    "data = pd.read_csv('lol.csv')\n",
    "data"
   ]
  },
  {
   "cell_type": "code",
   "execution_count": 367,
   "metadata": {},
   "outputs": [
    {
     "data": {
      "text/plain": [
       "gameId                          0\n",
       "blueWins                        0\n",
       "blueWardsPlaced                 0\n",
       "blueWardsDestroyed              0\n",
       "blueFirstBlood                  0\n",
       "blueKills                       0\n",
       "blueDeaths                      0\n",
       "blueAssists                     0\n",
       "blueEliteMonsters               0\n",
       "blueDragons                     0\n",
       "blueHeralds                     0\n",
       "blueTowersDestroyed             0\n",
       "blueTotalGold                   0\n",
       "blueAvgLevel                    0\n",
       "blueTotalExperience             0\n",
       "blueTotalMinionsKilled          0\n",
       "blueTotalJungleMinionsKilled    0\n",
       "blueGoldDiff                    0\n",
       "blueExperienceDiff              0\n",
       "blueCSPerMin                    0\n",
       "blueGoldPerMin                  0\n",
       "redWardsPlaced                  0\n",
       "redWardsDestroyed               0\n",
       "redFirstBlood                   0\n",
       "redKills                        0\n",
       "redDeaths                       0\n",
       "redAssists                      0\n",
       "redEliteMonsters                0\n",
       "redDragons                      0\n",
       "redHeralds                      0\n",
       "redTowersDestroyed              0\n",
       "redTotalGold                    0\n",
       "redAvgLevel                     0\n",
       "redTotalExperience              0\n",
       "redTotalMinionsKilled           0\n",
       "redTotalJungleMinionsKilled     0\n",
       "redGoldDiff                     0\n",
       "redExperienceDiff               0\n",
       "redCSPerMin                     0\n",
       "redGoldPerMin                   0\n",
       "dtype: int64"
      ]
     },
     "execution_count": 367,
     "metadata": {},
     "output_type": "execute_result"
    }
   ],
   "source": [
    "#ver si los datos tienen valores nulos\n",
    "data.isnull().sum() #esta balanceado"
   ]
  },
  {
   "cell_type": "code",
   "execution_count": 368,
   "metadata": {},
   "outputs": [],
   "source": [
    "y = data['blueWins']"
   ]
  },
  {
   "cell_type": "code",
   "execution_count": 369,
   "metadata": {},
   "outputs": [
    {
     "data": {
      "text/html": [
       "<div>\n",
       "<style scoped>\n",
       "    .dataframe tbody tr th:only-of-type {\n",
       "        vertical-align: middle;\n",
       "    }\n",
       "\n",
       "    .dataframe tbody tr th {\n",
       "        vertical-align: top;\n",
       "    }\n",
       "\n",
       "    .dataframe thead th {\n",
       "        text-align: right;\n",
       "    }\n",
       "</style>\n",
       "<table border=\"1\" class=\"dataframe\">\n",
       "  <thead>\n",
       "    <tr style=\"text-align: right;\">\n",
       "      <th></th>\n",
       "      <th>gameId</th>\n",
       "      <th>blueWardsPlaced</th>\n",
       "      <th>blueWardsDestroyed</th>\n",
       "      <th>blueFirstBlood</th>\n",
       "      <th>blueKills</th>\n",
       "      <th>blueDeaths</th>\n",
       "      <th>blueAssists</th>\n",
       "      <th>blueEliteMonsters</th>\n",
       "      <th>blueDragons</th>\n",
       "      <th>blueHeralds</th>\n",
       "      <th>...</th>\n",
       "      <th>redTowersDestroyed</th>\n",
       "      <th>redTotalGold</th>\n",
       "      <th>redAvgLevel</th>\n",
       "      <th>redTotalExperience</th>\n",
       "      <th>redTotalMinionsKilled</th>\n",
       "      <th>redTotalJungleMinionsKilled</th>\n",
       "      <th>redGoldDiff</th>\n",
       "      <th>redExperienceDiff</th>\n",
       "      <th>redCSPerMin</th>\n",
       "      <th>redGoldPerMin</th>\n",
       "    </tr>\n",
       "  </thead>\n",
       "  <tbody>\n",
       "    <tr>\n",
       "      <th>0</th>\n",
       "      <td>4519157822</td>\n",
       "      <td>28</td>\n",
       "      <td>2</td>\n",
       "      <td>1</td>\n",
       "      <td>9</td>\n",
       "      <td>6</td>\n",
       "      <td>11</td>\n",
       "      <td>0</td>\n",
       "      <td>0</td>\n",
       "      <td>0</td>\n",
       "      <td>...</td>\n",
       "      <td>0</td>\n",
       "      <td>16567</td>\n",
       "      <td>6.8</td>\n",
       "      <td>17047</td>\n",
       "      <td>197</td>\n",
       "      <td>55</td>\n",
       "      <td>-643</td>\n",
       "      <td>8</td>\n",
       "      <td>19.7</td>\n",
       "      <td>1656.7</td>\n",
       "    </tr>\n",
       "    <tr>\n",
       "      <th>1</th>\n",
       "      <td>4523371949</td>\n",
       "      <td>12</td>\n",
       "      <td>1</td>\n",
       "      <td>0</td>\n",
       "      <td>5</td>\n",
       "      <td>5</td>\n",
       "      <td>5</td>\n",
       "      <td>0</td>\n",
       "      <td>0</td>\n",
       "      <td>0</td>\n",
       "      <td>...</td>\n",
       "      <td>1</td>\n",
       "      <td>17620</td>\n",
       "      <td>6.8</td>\n",
       "      <td>17438</td>\n",
       "      <td>240</td>\n",
       "      <td>52</td>\n",
       "      <td>2908</td>\n",
       "      <td>1173</td>\n",
       "      <td>24.0</td>\n",
       "      <td>1762.0</td>\n",
       "    </tr>\n",
       "    <tr>\n",
       "      <th>2</th>\n",
       "      <td>4521474530</td>\n",
       "      <td>15</td>\n",
       "      <td>0</td>\n",
       "      <td>0</td>\n",
       "      <td>7</td>\n",
       "      <td>11</td>\n",
       "      <td>4</td>\n",
       "      <td>1</td>\n",
       "      <td>1</td>\n",
       "      <td>0</td>\n",
       "      <td>...</td>\n",
       "      <td>0</td>\n",
       "      <td>17285</td>\n",
       "      <td>6.8</td>\n",
       "      <td>17254</td>\n",
       "      <td>203</td>\n",
       "      <td>28</td>\n",
       "      <td>1172</td>\n",
       "      <td>1033</td>\n",
       "      <td>20.3</td>\n",
       "      <td>1728.5</td>\n",
       "    </tr>\n",
       "    <tr>\n",
       "      <th>3</th>\n",
       "      <td>4524384067</td>\n",
       "      <td>43</td>\n",
       "      <td>1</td>\n",
       "      <td>0</td>\n",
       "      <td>4</td>\n",
       "      <td>5</td>\n",
       "      <td>5</td>\n",
       "      <td>1</td>\n",
       "      <td>0</td>\n",
       "      <td>1</td>\n",
       "      <td>...</td>\n",
       "      <td>0</td>\n",
       "      <td>16478</td>\n",
       "      <td>7.0</td>\n",
       "      <td>17961</td>\n",
       "      <td>235</td>\n",
       "      <td>47</td>\n",
       "      <td>1321</td>\n",
       "      <td>7</td>\n",
       "      <td>23.5</td>\n",
       "      <td>1647.8</td>\n",
       "    </tr>\n",
       "    <tr>\n",
       "      <th>4</th>\n",
       "      <td>4436033771</td>\n",
       "      <td>75</td>\n",
       "      <td>4</td>\n",
       "      <td>0</td>\n",
       "      <td>6</td>\n",
       "      <td>6</td>\n",
       "      <td>6</td>\n",
       "      <td>0</td>\n",
       "      <td>0</td>\n",
       "      <td>0</td>\n",
       "      <td>...</td>\n",
       "      <td>0</td>\n",
       "      <td>17404</td>\n",
       "      <td>7.0</td>\n",
       "      <td>18313</td>\n",
       "      <td>225</td>\n",
       "      <td>67</td>\n",
       "      <td>1004</td>\n",
       "      <td>-230</td>\n",
       "      <td>22.5</td>\n",
       "      <td>1740.4</td>\n",
       "    </tr>\n",
       "  </tbody>\n",
       "</table>\n",
       "<p>5 rows × 39 columns</p>\n",
       "</div>"
      ],
      "text/plain": [
       "       gameId  blueWardsPlaced  blueWardsDestroyed  blueFirstBlood  blueKills  \\\n",
       "0  4519157822               28                   2               1          9   \n",
       "1  4523371949               12                   1               0          5   \n",
       "2  4521474530               15                   0               0          7   \n",
       "3  4524384067               43                   1               0          4   \n",
       "4  4436033771               75                   4               0          6   \n",
       "\n",
       "   blueDeaths  blueAssists  blueEliteMonsters  blueDragons  blueHeralds  ...  \\\n",
       "0           6           11                  0            0            0  ...   \n",
       "1           5            5                  0            0            0  ...   \n",
       "2          11            4                  1            1            0  ...   \n",
       "3           5            5                  1            0            1  ...   \n",
       "4           6            6                  0            0            0  ...   \n",
       "\n",
       "   redTowersDestroyed  redTotalGold  redAvgLevel  redTotalExperience  \\\n",
       "0                   0         16567          6.8               17047   \n",
       "1                   1         17620          6.8               17438   \n",
       "2                   0         17285          6.8               17254   \n",
       "3                   0         16478          7.0               17961   \n",
       "4                   0         17404          7.0               18313   \n",
       "\n",
       "   redTotalMinionsKilled  redTotalJungleMinionsKilled  redGoldDiff  \\\n",
       "0                    197                           55         -643   \n",
       "1                    240                           52         2908   \n",
       "2                    203                           28         1172   \n",
       "3                    235                           47         1321   \n",
       "4                    225                           67         1004   \n",
       "\n",
       "   redExperienceDiff  redCSPerMin  redGoldPerMin  \n",
       "0                  8         19.7         1656.7  \n",
       "1               1173         24.0         1762.0  \n",
       "2               1033         20.3         1728.5  \n",
       "3                  7         23.5         1647.8  \n",
       "4               -230         22.5         1740.4  \n",
       "\n",
       "[5 rows x 39 columns]"
      ]
     },
     "execution_count": 369,
     "metadata": {},
     "output_type": "execute_result"
    }
   ],
   "source": [
    "X = data.drop('blueWins', axis=1)\n",
    "\n",
    "X.head()"
   ]
  },
  {
   "cell_type": "code",
   "execution_count": 370,
   "metadata": {},
   "outputs": [],
   "source": [
    "correlaciones = {}\n",
    "for col in X.columns:\n",
    "    corr_pearson = np.corrcoef(X[col], y)[0,1]\n",
    "    correlaciones[col] = corr_pearson"
   ]
  },
  {
   "cell_type": "code",
   "execution_count": 371,
   "metadata": {},
   "outputs": [
    {
     "data": {
      "text/plain": [
       "[('blueGoldDiff', 0.51111905517625),\n",
       " ('blueExperienceDiff', 0.48955791655969777),\n",
       " ('blueTotalGold', 0.41721255829217974),\n",
       " ('blueGoldPerMin', 0.41721255829217946),\n",
       " ('blueTotalExperience', 0.3961407056514389),\n",
       " ('blueAvgLevel', 0.3578198468989065),\n",
       " ('blueKills', 0.3373576105342435),\n",
       " ('redDeaths', 0.3373576105342435),\n",
       " ('blueAssists', 0.2766849645392132),\n",
       " ('blueCSPerMin', 0.22490947260651514),\n",
       " ('blueTotalMinionsKilled', 0.2249094726065151),\n",
       " ('blueEliteMonsters', 0.2219441945274376),\n",
       " ('blueDragons', 0.21376769276290752),\n",
       " ('blueFirstBlood', 0.2017692643857104),\n",
       " ('blueTotalJungleMinionsKilled', 0.13144491466164793),\n",
       " ('blueTowersDestroyed', 0.11556646320823924),\n",
       " ('blueHeralds', 0.0923847247473175),\n",
       " ('blueWardsDestroyed', 0.044246803571579015),\n",
       " ('gameId', 0.0009851278627279335),\n",
       " ('blueWardsPlaced', 8.695109201392437e-05),\n",
       " ('redWardsPlaced', -0.023671238287740017),\n",
       " ('redWardsDestroyed', -0.05540030842294096),\n",
       " ('redHeralds', -0.09717188056275644),\n",
       " ('redTowersDestroyed', -0.10369562570246864),\n",
       " ('redTotalJungleMinionsKilled', -0.1109935445795713),\n",
       " ('redFirstBlood', -0.2017692643857104),\n",
       " ('redDragons', -0.2095159015790154),\n",
       " ('redCSPerMin', -0.21217146445217194),\n",
       " ('redTotalMinionsKilled', -0.212171464452172),\n",
       " ('redEliteMonsters', -0.22155108781857924),\n",
       " ('redAssists', -0.2710469185309071),\n",
       " ('blueDeaths', -0.3392967410875846),\n",
       " ('redKills', -0.3392967410875846),\n",
       " ('redAvgLevel', -0.3521267631821689),\n",
       " ('redTotalExperience', -0.3875875647261892),\n",
       " ('redTotalGold', -0.4113962473532144),\n",
       " ('redGoldPerMin', -0.4113962473532144),\n",
       " ('redExperienceDiff', -0.48955791655969777),\n",
       " ('redGoldDiff', -0.51111905517625)]"
      ]
     },
     "execution_count": 371,
     "metadata": {},
     "output_type": "execute_result"
    }
   ],
   "source": [
    "#ordenar correlaciones de mayor a menor\n",
    "correlaciones_ordenadas = sorted(correlaciones.items(), key=lambda x: x[1], reverse=True)\n",
    "correlaciones_ordenadas"
   ]
  },
  {
   "cell_type": "markdown",
   "metadata": {},
   "source": [
    "##### Top 5 features con método de filtrado:\n",
    "- BlueGoldDiff\n",
    "- BlueExperienceDiff\n",
    "- BlueTotalGold\n",
    "- BlueGoldperMin\n",
    "- BlueTotalExperience\n"
   ]
  },
  {
   "cell_type": "code",
   "execution_count": 372,
   "metadata": {},
   "outputs": [
    {
     "data": {
      "text/plain": [
       "0.72165991902834"
      ]
     },
     "execution_count": 372,
     "metadata": {},
     "output_type": "execute_result"
    }
   ],
   "source": [
    "# SVM con los features elegidos\n",
    "from sklearn.svm import SVC\n",
    "from sklearn.model_selection import train_test_split\n",
    "from sklearn.metrics import accuracy_score\n",
    "\n",
    "X_svm = X[['blueGoldDiff', 'blueExperienceDiff', 'blueTotalGold', 'blueGoldPerMin', 'blueTotalExperience']]\n",
    "X_train, X_test, y_train, y_test = train_test_split(X_svm, y, test_size=0.2, random_state=42)\n",
    "\n",
    "svm = SVC()\n",
    "svm.fit(X_train, y_train)\n",
    "y_pred = svm.predict(X_test)\n",
    "accuracy_score(y_test, y_pred)"
   ]
  },
  {
   "cell_type": "markdown",
   "metadata": {},
   "source": [
    "#### Método Wrapper\n",
    "Usando backwar eliminationds"
   ]
  },
  {
   "cell_type": "code",
   "execution_count": 79,
   "metadata": {},
   "outputs": [
    {
     "data": {
      "text/html": [
       "<div>\n",
       "<style scoped>\n",
       "    .dataframe tbody tr th:only-of-type {\n",
       "        vertical-align: middle;\n",
       "    }\n",
       "\n",
       "    .dataframe tbody tr th {\n",
       "        vertical-align: top;\n",
       "    }\n",
       "\n",
       "    .dataframe thead th {\n",
       "        text-align: right;\n",
       "    }\n",
       "</style>\n",
       "<table border=\"1\" class=\"dataframe\">\n",
       "  <thead>\n",
       "    <tr style=\"text-align: right;\">\n",
       "      <th></th>\n",
       "      <th>gameId</th>\n",
       "      <th>blueWardsPlaced</th>\n",
       "      <th>blueWardsDestroyed</th>\n",
       "      <th>blueFirstBlood</th>\n",
       "      <th>blueKills</th>\n",
       "      <th>blueDeaths</th>\n",
       "      <th>blueAssists</th>\n",
       "      <th>blueEliteMonsters</th>\n",
       "      <th>blueDragons</th>\n",
       "      <th>blueHeralds</th>\n",
       "      <th>...</th>\n",
       "      <th>redTowersDestroyed</th>\n",
       "      <th>redTotalGold</th>\n",
       "      <th>redAvgLevel</th>\n",
       "      <th>redTotalExperience</th>\n",
       "      <th>redTotalMinionsKilled</th>\n",
       "      <th>redTotalJungleMinionsKilled</th>\n",
       "      <th>redGoldDiff</th>\n",
       "      <th>redExperienceDiff</th>\n",
       "      <th>redCSPerMin</th>\n",
       "      <th>redGoldPerMin</th>\n",
       "    </tr>\n",
       "  </thead>\n",
       "  <tbody>\n",
       "    <tr>\n",
       "      <th>0</th>\n",
       "      <td>0.962031</td>\n",
       "      <td>0.093878</td>\n",
       "      <td>0.074074</td>\n",
       "      <td>1.0</td>\n",
       "      <td>0.409091</td>\n",
       "      <td>0.272727</td>\n",
       "      <td>0.379310</td>\n",
       "      <td>0.0</td>\n",
       "      <td>0.0</td>\n",
       "      <td>0.0</td>\n",
       "      <td>...</td>\n",
       "      <td>0.0</td>\n",
       "      <td>0.464844</td>\n",
       "      <td>0.588235</td>\n",
       "      <td>0.557608</td>\n",
       "      <td>0.494505</td>\n",
       "      <td>0.579545</td>\n",
       "      <td>0.485446</td>\n",
       "      <td>0.472598</td>\n",
       "      <td>0.494505</td>\n",
       "      <td>0.464844</td>\n",
       "    </tr>\n",
       "    <tr>\n",
       "      <th>1</th>\n",
       "      <td>0.980146</td>\n",
       "      <td>0.028571</td>\n",
       "      <td>0.037037</td>\n",
       "      <td>0.0</td>\n",
       "      <td>0.227273</td>\n",
       "      <td>0.227273</td>\n",
       "      <td>0.172414</td>\n",
       "      <td>0.0</td>\n",
       "      <td>0.0</td>\n",
       "      <td>0.0</td>\n",
       "      <td>...</td>\n",
       "      <td>0.5</td>\n",
       "      <td>0.556250</td>\n",
       "      <td>0.588235</td>\n",
       "      <td>0.590732</td>\n",
       "      <td>0.730769</td>\n",
       "      <td>0.545455</td>\n",
       "      <td>0.644706</td>\n",
       "      <td>0.538488</td>\n",
       "      <td>0.730769</td>\n",
       "      <td>0.556250</td>\n",
       "    </tr>\n",
       "    <tr>\n",
       "      <th>2</th>\n",
       "      <td>0.971990</td>\n",
       "      <td>0.040816</td>\n",
       "      <td>0.000000</td>\n",
       "      <td>0.0</td>\n",
       "      <td>0.318182</td>\n",
       "      <td>0.500000</td>\n",
       "      <td>0.137931</td>\n",
       "      <td>0.5</td>\n",
       "      <td>1.0</td>\n",
       "      <td>0.0</td>\n",
       "      <td>...</td>\n",
       "      <td>0.0</td>\n",
       "      <td>0.527170</td>\n",
       "      <td>0.588235</td>\n",
       "      <td>0.575144</td>\n",
       "      <td>0.527473</td>\n",
       "      <td>0.272727</td>\n",
       "      <td>0.566848</td>\n",
       "      <td>0.530570</td>\n",
       "      <td>0.527473</td>\n",
       "      <td>0.527170</td>\n",
       "    </tr>\n",
       "    <tr>\n",
       "      <th>3</th>\n",
       "      <td>0.984497</td>\n",
       "      <td>0.155102</td>\n",
       "      <td>0.037037</td>\n",
       "      <td>0.0</td>\n",
       "      <td>0.181818</td>\n",
       "      <td>0.227273</td>\n",
       "      <td>0.172414</td>\n",
       "      <td>0.5</td>\n",
       "      <td>0.0</td>\n",
       "      <td>1.0</td>\n",
       "      <td>...</td>\n",
       "      <td>0.0</td>\n",
       "      <td>0.457118</td>\n",
       "      <td>0.647059</td>\n",
       "      <td>0.635039</td>\n",
       "      <td>0.703297</td>\n",
       "      <td>0.488636</td>\n",
       "      <td>0.573530</td>\n",
       "      <td>0.472541</td>\n",
       "      <td>0.703297</td>\n",
       "      <td>0.457118</td>\n",
       "    </tr>\n",
       "    <tr>\n",
       "      <th>4</th>\n",
       "      <td>0.604712</td>\n",
       "      <td>0.285714</td>\n",
       "      <td>0.148148</td>\n",
       "      <td>0.0</td>\n",
       "      <td>0.272727</td>\n",
       "      <td>0.272727</td>\n",
       "      <td>0.206897</td>\n",
       "      <td>0.0</td>\n",
       "      <td>0.0</td>\n",
       "      <td>0.0</td>\n",
       "      <td>...</td>\n",
       "      <td>0.0</td>\n",
       "      <td>0.537500</td>\n",
       "      <td>0.647059</td>\n",
       "      <td>0.664859</td>\n",
       "      <td>0.648352</td>\n",
       "      <td>0.715909</td>\n",
       "      <td>0.559313</td>\n",
       "      <td>0.459137</td>\n",
       "      <td>0.648352</td>\n",
       "      <td>0.537500</td>\n",
       "    </tr>\n",
       "  </tbody>\n",
       "</table>\n",
       "<p>5 rows × 39 columns</p>\n",
       "</div>"
      ],
      "text/plain": [
       "     gameId  blueWardsPlaced  blueWardsDestroyed  blueFirstBlood  blueKills  \\\n",
       "0  0.962031         0.093878            0.074074             1.0   0.409091   \n",
       "1  0.980146         0.028571            0.037037             0.0   0.227273   \n",
       "2  0.971990         0.040816            0.000000             0.0   0.318182   \n",
       "3  0.984497         0.155102            0.037037             0.0   0.181818   \n",
       "4  0.604712         0.285714            0.148148             0.0   0.272727   \n",
       "\n",
       "   blueDeaths  blueAssists  blueEliteMonsters  blueDragons  blueHeralds  ...  \\\n",
       "0    0.272727     0.379310                0.0          0.0          0.0  ...   \n",
       "1    0.227273     0.172414                0.0          0.0          0.0  ...   \n",
       "2    0.500000     0.137931                0.5          1.0          0.0  ...   \n",
       "3    0.227273     0.172414                0.5          0.0          1.0  ...   \n",
       "4    0.272727     0.206897                0.0          0.0          0.0  ...   \n",
       "\n",
       "   redTowersDestroyed  redTotalGold  redAvgLevel  redTotalExperience  \\\n",
       "0                 0.0      0.464844     0.588235            0.557608   \n",
       "1                 0.5      0.556250     0.588235            0.590732   \n",
       "2                 0.0      0.527170     0.588235            0.575144   \n",
       "3                 0.0      0.457118     0.647059            0.635039   \n",
       "4                 0.0      0.537500     0.647059            0.664859   \n",
       "\n",
       "   redTotalMinionsKilled  redTotalJungleMinionsKilled  redGoldDiff  \\\n",
       "0               0.494505                     0.579545     0.485446   \n",
       "1               0.730769                     0.545455     0.644706   \n",
       "2               0.527473                     0.272727     0.566848   \n",
       "3               0.703297                     0.488636     0.573530   \n",
       "4               0.648352                     0.715909     0.559313   \n",
       "\n",
       "   redExperienceDiff  redCSPerMin  redGoldPerMin  \n",
       "0           0.472598     0.494505       0.464844  \n",
       "1           0.538488     0.730769       0.556250  \n",
       "2           0.530570     0.527473       0.527170  \n",
       "3           0.472541     0.703297       0.457118  \n",
       "4           0.459137     0.648352       0.537500  \n",
       "\n",
       "[5 rows x 39 columns]"
      ]
     },
     "execution_count": 79,
     "metadata": {},
     "output_type": "execute_result"
    }
   ],
   "source": [
    "from sklearn.model_selection import cross_val_score\n",
    "from sklearn.ensemble import RandomForestClassifier\n",
    "from sklearn.preprocessing import MinMaxScaler\n",
    "\n",
    "import numpy as np\n",
    "import pandas as pd\n",
    "\n",
    "model = RandomForestClassifier()\n",
    "\n",
    "df_escalated  = data.drop('blueWins', axis=1)\n",
    "\n",
    "scaler = MinMaxScaler()\n",
    "df_escalated = pd.DataFrame(scaler.fit_transform(df_escalated), columns=df_escalated.columns)\n",
    "\n",
    "df_escalated.head()\n"
   ]
  },
  {
   "cell_type": "code",
   "execution_count": 84,
   "metadata": {},
   "outputs": [
    {
     "name": "stdout",
     "output_type": "stream",
     "text": [
      "Removing redCSPerMin with score 0.71778445139138\n",
      "Removing redWardsDestroyed with score 0.7194047045559371\n",
      "Removing redFirstBlood with score 0.7195063803618101\n",
      "Removing redDeaths with score 0.7193034899810382\n",
      "Removing blueDeaths with score 0.7172780710295701\n",
      "Removing redTotalMinionsKilled with score 0.7193031312458361\n",
      "Removing blueTowersDestroyed with score 0.7205175524009635\n",
      "Removing redTotalExperience with score 0.7159629477784042\n",
      "Removing redHeralds with score 0.7175823297288987\n",
      "Removing redDragons with score 0.7191006508481526\n",
      "Removing redTotalGold with score 0.7154568236560241\n",
      "Removing blueTotalExperience with score 0.717987700507354\n",
      "Removing blueFirstBlood with score 0.7165703889714549\n",
      "Removing blueEliteMonsters with score 0.7161650694408855\n",
      "Removing gameId with score 0.718392046328089\n",
      "Removing redTotalJungleMinionsKilled with score 0.7166707323322913\n",
      "Removing blueKills with score 0.7177855788448727\n",
      "Removing blueWardsPlaced with score 0.7157605698764926\n",
      "Removing redExperienceDiff with score 0.7156587915748475\n",
      "Removing blueExperienceDiff with score 0.7148499974376057\n",
      "Removing redEliteMonsters with score 0.7132288730589863\n",
      "Removing blueTotalJungleMinionsKilled with score 0.7119133910726182\n",
      "Removing blueDragons with score 0.7112058115102752\n",
      "Removing blueAvgLevel with score 0.7074602060165017\n",
      "Removing redWardsPlaced with score 0.7047274637421206\n",
      "Removing redAvgLevel with score 0.7013865628042842\n",
      "Removing blueAssists with score 0.7008803874340184\n",
      "Removing redKills with score 0.6998689591554348\n",
      "Removing redAssists with score 0.696427663608876\n",
      "Removing blueWardsDestroyed with score 0.692479423973761\n",
      "Removing blueHeralds with score 0.6916699123661149\n",
      "Removing redGoldPerMin with score 0.6922770460718496\n",
      "Removing blueGoldDiff with score 0.6914667657459129\n",
      "Removing redGoldDiff with score 0.6318451288884334\n",
      "Removing blueTotalGold with score 0.6179773484343771\n"
     ]
    }
   ],
   "source": [
    "all_features = df_escalated.columns\n",
    "min_features = 5\n",
    "\n",
    "X_train, X_test, y_train, y_test = train_test_split(X, y, test_size=0.2, random_state=42)\n",
    "\n",
    "while len(all_features) >= min_features:\n",
    "    worst_score = 1\n",
    "    worst_feature = None\n",
    "\n",
    "    for feature in all_features:\n",
    "        candidate_features = [f for f in all_features if f != feature]\n",
    "\n",
    "        scores = cross_val_score(model, df_escalated[candidate_features], y, cv=5)\n",
    "        mean_score = np.mean(scores)\n",
    "\n",
    "        if mean_score < worst_score:\n",
    "            worst_score = mean_score\n",
    "            worst_feature = feature\n",
    "\n",
    "    print(f'Removing {worst_feature} with score {worst_score}')\n",
    "    X_train = X_train.drop(worst_feature, axis=1)\n",
    "    X_test = X_test.drop(worst_feature, axis=1)\n",
    "\n",
    "    model.fit(X_train, y_train)\n",
    "\n",
    "    all_features = [f for f in all_features if f != worst_feature]"
   ]
  },
  {
   "cell_type": "code",
   "execution_count": 87,
   "metadata": {},
   "outputs": [
    {
     "name": "stdout",
     "output_type": "stream",
     "text": [
      "Selected Features: ['blueTotalMinionsKilled', 'blueCSPerMin', 'blueGoldPerMin', 'redTowersDestroyed']\n"
     ]
    },
    {
     "data": {
      "text/plain": [
       "0.6017206477732794"
      ]
     },
     "execution_count": 87,
     "metadata": {},
     "output_type": "execute_result"
    }
   ],
   "source": [
    "y_pred = model.predict(X_test)\n",
    "print(f'Selected Features: {all_features}')\n",
    "accuracy_score(y_test, y_pred)"
   ]
  },
  {
   "cell_type": "markdown",
   "metadata": {},
   "source": [
    "#### Método Lasso (Embebidos)"
   ]
  },
  {
   "cell_type": "code",
   "execution_count": 69,
   "metadata": {},
   "outputs": [
    {
     "name": "stdout",
     "output_type": "stream",
     "text": [
      "(7903, 39) (1976, 39)\n"
     ]
    },
    {
     "data": {
      "text/plain": [
       "Index(['blueKills', 'blueDeaths', 'blueAssists', 'blueHeralds', 'blueAvgLevel',\n",
       "       'blueTotalExperience', 'redWardsDestroyed', 'redKills', 'redDeaths',\n",
       "       'redHeralds', 'redTotalGold', 'redGoldPerMin'],\n",
       "      dtype='object')"
      ]
     },
     "execution_count": 69,
     "metadata": {},
     "output_type": "execute_result"
    }
   ],
   "source": [
    "import numpy as np\n",
    "import pandas as pd\n",
    "from sklearn.feature_selection import SelectFromModel\n",
    "from sklearn.linear_model import Lasso, LogisticRegression\n",
    "from sklearn.model_selection import train_test_split\n",
    "from sklearn.preprocessing import StandardScaler\n",
    "\n",
    "data = pd.read_csv('lol.csv')\n",
    "\n",
    "y = data['blueWins']\n",
    "X = data.drop('blueWins', axis=1)\n",
    "\n",
    "X_train, X_test, y_train, y_test = train_test_split(X, y, test_size=0.2, random_state=42)\n",
    "print (X_train.shape, X_test.shape)\n",
    "\n",
    "scaler = StandardScaler()\n",
    "scaler.fit(X_train)\n",
    "\n",
    "sel_ = SelectFromModel(Lasso(alpha=0.001, random_state=10))\n",
    "sel_.fit(scaler.transform(X_train), y_train)\n",
    "\n",
    "sel_.get_support()\n",
    "\n",
    "sel_.get_feature_names_out()\n",
    "\n",
    "removed_feats = X_train.columns[(sel_.estimator_.coef_ == 0).ravel().tolist()]\n",
    "removed_feats\n",
    "\n",
    "\n"
   ]
  },
  {
   "cell_type": "code",
   "execution_count": 70,
   "metadata": {},
   "outputs": [
    {
     "data": {
      "text/plain": [
       "((7903, 27), (1976, 27))"
      ]
     },
     "execution_count": 70,
     "metadata": {},
     "output_type": "execute_result"
    }
   ],
   "source": [
    "#reducir el dataset a las features seleccionadas\n",
    "X_train_selected = sel_.transform(scaler.transform(X_train))\n",
    "X_test_selected = sel_.transform(scaler.transform(X_test))\n",
    "\n",
    "X_train_selected.shape, X_test_selected.shape\n"
   ]
  },
  {
   "cell_type": "code",
   "execution_count": 71,
   "metadata": {},
   "outputs": [
    {
     "data": {
      "text/plain": [
       "0.7252024291497976"
      ]
     },
     "execution_count": 71,
     "metadata": {},
     "output_type": "execute_result"
    }
   ],
   "source": [
    "# SVM con los features elegidos\n",
    "\n",
    "from sklearn.svm import SVC\n",
    "from sklearn.model_selection import train_test_split\n",
    "from sklearn.metrics import accuracy_score\n",
    "\n",
    "svm = SVC()\n",
    "svm.fit(X_train_selected, y_train)\n",
    "y_pred = svm.predict(X_test_selected)\n",
    "accuracy_score(y_test, y_pred)"
   ]
  },
  {
   "cell_type": "markdown",
   "metadata": {},
   "source": [
    "### Lab 02"
   ]
  },
  {
   "cell_type": "code",
   "execution_count": 386,
   "metadata": {},
   "outputs": [
    {
     "name": "stdout",
     "output_type": "stream",
     "text": [
      "accuracy_score:  0.6771255060728745\n"
     ]
    }
   ],
   "source": [
    "# insert on a dataframe called pd the following columns: blueKills', 'blueAvgLevel', 'blueWins'\n",
    "pd = data[['blueKills', 'blueAvgLevel', 'blueWins']]\n",
    "\n",
    "X = pd.iloc[:, :-1].values\n",
    "y = pd.iloc[:, -1].values\n",
    "\n",
    "#Dividir el conjunto de datos en entrenamiento y prueba\n",
    "X_entreno, X_prueba, y_entreno, y_prueba = train_test_split(X, y, test_size = 0.2, random_state = 1)\n",
    "\n",
    "# Entrene el modelo de SVM con el conjunto de entrenamiento\n",
    "model = SVC(kernel='linear')\n",
    "model.fit(X_entreno, y_entreno)\n",
    "\n",
    "# Predicción y métricas de evaluación\n",
    "y_pred = model.predict(X_prueba)\n",
    "print(\"accuracy_score: \", accuracy_score(y_prueba, y_pred))"
   ]
  },
  {
   "cell_type": "markdown",
   "metadata": {},
   "source": [
    "### Conclusión\n",
    "\n",
    "Debido a que los datos estan balanceados, utilizamos la precisión como metrica de desempeño debido a que ayuda a la proporción de predicciones. Se obtuvieron los siguientes resultados con cada técnica:\n",
    "- Método de filtrado: 0.72165\n",
    "- Método wrapper: 0.6017\n",
    "- Método Lasso: 0.7252\n",
    "- SVC: 0.6771\n",
    "\n",
    "La técnica que mejor precisión obtuvo fue de feature selection, específicamente el método Lasso ya que fue capaz de identificar y seleccionar características relevantes del conjunto de datos. Este tipo de regresión al ser un método embedido combina la regularización y la regresión lineal, por lo que se vió beneficiado con el tipo de características para brindar un buen rendimiento."
   ]
  },
  {
   "cell_type": "markdown",
   "metadata": {},
   "source": [
    "### Task 2.3 - Perceptrón"
   ]
  },
  {
   "cell_type": "code",
   "execution_count": 378,
   "metadata": {},
   "outputs": [],
   "source": [
    "from sklearn.datasets import load_iris\n",
    "\n",
    "iris = load_iris()\n",
    "X, y = iris.data, iris.target\n",
    "X_filtered = []\n",
    "y_filtered = []\n",
    "for i in range(len(X)):\n",
    "    if y[i] <= 1:\n",
    "        X_filtered.append(X[i])\n",
    "        y_filtered.append(y[i])\n",
    "\n",
    "for i in range(len(X_filtered)):\n",
    "    if y_filtered[i] not in [0,1]:\n",
    "        print(X_filtered[i], y_filtered[i])"
   ]
  },
  {
   "cell_type": "code",
   "execution_count": 380,
   "metadata": {},
   "outputs": [
    {
     "data": {
      "text/html": [
       "<div>\n",
       "<style scoped>\n",
       "    .dataframe tbody tr th:only-of-type {\n",
       "        vertical-align: middle;\n",
       "    }\n",
       "\n",
       "    .dataframe tbody tr th {\n",
       "        vertical-align: top;\n",
       "    }\n",
       "\n",
       "    .dataframe thead th {\n",
       "        text-align: right;\n",
       "    }\n",
       "</style>\n",
       "<table border=\"1\" class=\"dataframe\">\n",
       "  <thead>\n",
       "    <tr style=\"text-align: right;\">\n",
       "      <th></th>\n",
       "      <th>sepal length (cm)</th>\n",
       "      <th>sepal width (cm)</th>\n",
       "    </tr>\n",
       "  </thead>\n",
       "  <tbody>\n",
       "    <tr>\n",
       "      <th>0</th>\n",
       "      <td>5.1</td>\n",
       "      <td>3.5</td>\n",
       "    </tr>\n",
       "    <tr>\n",
       "      <th>1</th>\n",
       "      <td>4.9</td>\n",
       "      <td>3.0</td>\n",
       "    </tr>\n",
       "    <tr>\n",
       "      <th>2</th>\n",
       "      <td>4.7</td>\n",
       "      <td>3.2</td>\n",
       "    </tr>\n",
       "    <tr>\n",
       "      <th>3</th>\n",
       "      <td>4.6</td>\n",
       "      <td>3.1</td>\n",
       "    </tr>\n",
       "    <tr>\n",
       "      <th>4</th>\n",
       "      <td>5.0</td>\n",
       "      <td>3.6</td>\n",
       "    </tr>\n",
       "  </tbody>\n",
       "</table>\n",
       "</div>"
      ],
      "text/plain": [
       "   sepal length (cm)  sepal width (cm)\n",
       "0                5.1               3.5\n",
       "1                4.9               3.0\n",
       "2                4.7               3.2\n",
       "3                4.6               3.1\n",
       "4                5.0               3.6"
      ]
     },
     "execution_count": 380,
     "metadata": {},
     "output_type": "execute_result"
    }
   ],
   "source": [
    "# elegir solo sepal length y sepal width\n",
    "X = pd.DataFrame(X_filtered, columns=iris.feature_names)\n",
    "X = X[['sepal length (cm)', 'sepal width (cm)']]\n",
    "X.head()"
   ]
  },
  {
   "cell_type": "code",
   "execution_count": 382,
   "metadata": {},
   "outputs": [],
   "source": [
    "#dividir el dataset en entrenamiento y prueba\n",
    "X_train, X_test, y_train, y_test = train_test_split(X, y_filtered, test_size=0.2, random_state=42)"
   ]
  },
  {
   "cell_type": "code",
   "execution_count": 384,
   "metadata": {},
   "outputs": [
    {
     "data": {
      "text/plain": [
       "[1,\n",
       " 1,\n",
       " 0,\n",
       " 0,\n",
       " 1,\n",
       " 0,\n",
       " 0,\n",
       " 1,\n",
       " 0,\n",
       " 1,\n",
       " 0,\n",
       " 0,\n",
       " 1,\n",
       " 0,\n",
       " 1,\n",
       " 0,\n",
       " 1,\n",
       " 1,\n",
       " 0,\n",
       " 0,\n",
       " 0,\n",
       " 0,\n",
       " 0,\n",
       " 1,\n",
       " 0,\n",
       " 0,\n",
       " 1,\n",
       " 0,\n",
       " 1,\n",
       " 0,\n",
       " 0,\n",
       " 0,\n",
       " 0,\n",
       " 0,\n",
       " 0,\n",
       " 1,\n",
       " 0,\n",
       " 1,\n",
       " 0,\n",
       " 1,\n",
       " 1,\n",
       " 1,\n",
       " 1,\n",
       " 0,\n",
       " 1,\n",
       " 1,\n",
       " 0,\n",
       " 1,\n",
       " 1,\n",
       " 1,\n",
       " 1,\n",
       " 0,\n",
       " 1,\n",
       " 0,\n",
       " 1,\n",
       " 1,\n",
       " 1,\n",
       " 0,\n",
       " 1,\n",
       " 1,\n",
       " 1,\n",
       " 1,\n",
       " 0,\n",
       " 0,\n",
       " 0,\n",
       " 1,\n",
       " 0,\n",
       " 0,\n",
       " 0,\n",
       " 1,\n",
       " 1,\n",
       " 1,\n",
       " 1,\n",
       " 1,\n",
       " 0,\n",
       " 1,\n",
       " 1,\n",
       " 0,\n",
       " 1,\n",
       " 1]"
      ]
     },
     "execution_count": 384,
     "metadata": {},
     "output_type": "execute_result"
    }
   ],
   "source": [
    "y_train"
   ]
  },
  {
   "cell_type": "code",
   "execution_count": 385,
   "metadata": {},
   "outputs": [],
   "source": [
    "class Perceptron:\n",
    "    def __init__(self, eta=0.01, n_iter=50):\n",
    "        self.eta = eta  # Tasa de aprendizaje\n",
    "        self.n_iter = n_iter # Número de iteraciones\n",
    "\n",
    "    def fit(self, X, y):\n",
    "        self.w_ = np.zeros(1 + X.shape[1])  # Inicializar los pesos\n",
    "        self.errors_ = []  # Número de errores en cada iteración\n",
    "\n",
    "        for _ in range(self.n_iter):\n",
    "            errors = 0\n",
    "            for xi, target in zip(X, y):\n",
    "                update = self.eta * (target - self.predict(xi))\n",
    "                self.w_[1:] += update * xi\n",
    "                self.w_[0] += update\n",
    "                errors += int(update != 0.0)\n",
    "            self.errors_.append(errors)\n",
    "        return self\n",
    "\n",
    "    def net_input(self, X):\n",
    "        \"\"\"Calcular la entrada neta, es decir, el producto punto entre X y los pesos más el sesgo\"\"\"\n",
    "        return np.dot(X, self.w_[1:]) + self.w_[0]\n",
    "\n",
    "    def predict(self, X):\n",
    "        \"\"\"Devolver la etiqueta de clase usando la función escalón unitario\"\"\"\n",
    "        return np.where(self.net_input(X) >= 0.0, 1, -1)"
   ]
  },
  {
   "cell_type": "code",
   "execution_count": 387,
   "metadata": {},
   "outputs": [
    {
     "data": {
      "text/plain": [
       "<__main__.Perceptron at 0x296bc1850>"
      ]
     },
     "execution_count": 387,
     "metadata": {},
     "output_type": "execute_result"
    }
   ],
   "source": [
    "perceptron = Perceptron(eta=0.1, n_iter=1000)\n",
    "perceptron.fit(X_train.values, y_train)"
   ]
  },
  {
   "cell_type": "code",
   "execution_count": 388,
   "metadata": {},
   "outputs": [
    {
     "data": {
      "image/png": "[encoded data removed]",
      "text/plain": [
       "<Figure size 640x480 with 1 Axes>"
      ]
     },
     "metadata": {},
     "output_type": "display_data"
    }
   ],
   "source": [
    "\n",
    "plt.plot(range(1, len(perceptron.errors_) + 1), perceptron.errors_, marker='o')\n",
    "plt.xlabel('Iteraciones')\n",
    "plt.ylabel('Número de errores')\n",
    "plt.show()"
   ]
  },
  {
   "cell_type": "code",
   "execution_count": 389,
   "metadata": {},
   "outputs": [
    {
     "name": "stdout",
     "output_type": "stream",
     "text": [
      "Accuracy:  0.4\n"
     ]
    }
   ],
   "source": [
    "# hacer predicciones\n",
    "y_pred = perceptron.predict(X_test.values)\n",
    "print('Accuracy: ', accuracy_score(y_test, y_pred))"
   ]
  },
  {
   "cell_type": "code",
   "execution_count": 390,
   "metadata": {},
   "outputs": [
    {
     "name": "stdout",
     "output_type": "stream",
     "text": [
      "              precision    recall  f1-score   support\n",
      "\n",
      "           0       0.00      0.00      0.00        12\n",
      "           1       0.40      1.00      0.57         8\n",
      "\n",
      "    accuracy                           0.40        20\n",
      "   macro avg       0.20      0.50      0.29        20\n",
      "weighted avg       0.16      0.40      0.23        20\n"
     ]
    },
    {
     "name": "stderr",
     "output_type": "stream",
     "text": [
      "/Library/Frameworks/Python.framework/Versions/3.11/lib/python3.11/site-packages/sklearn/metrics/_classification.py:1471: UndefinedMetricWarning: Precision and F-score are ill-defined and being set to 0.0 in labels with no predicted samples. Use `zero_division` parameter to control this behavior.\n",
      "  _warn_prf(average, modifier, msg_start, len(result))\n",
      "/Library/Frameworks/Python.framework/Versions/3.11/lib/python3.11/site-packages/sklearn/metrics/_classification.py:1471: UndefinedMetricWarning: Precision and F-score are ill-defined and being set to 0.0 in labels with no predicted samples. Use `zero_division` parameter to control this behavior.\n",
      "  _warn_prf(average, modifier, msg_start, len(result))\n",
      "/Library/Frameworks/Python.framework/Versions/3.11/lib/python3.11/site-packages/sklearn/metrics/_classification.py:1471: UndefinedMetricWarning: Precision and F-score are ill-defined and being set to 0.0 in labels with no predicted samples. Use `zero_division` parameter to control this behavior.\n",
      "  _warn_prf(average, modifier, msg_start, len(result))\n"
     ]
    }
   ],
   "source": [
    "from sklearn.metrics import accuracy_score, classification_report\n",
    "\n",
    "print(classification_report(y_test, y_pred))"
   ]
  },
  {
   "cell_type": "markdown",
   "metadata": {},
   "source": [
    "### Conclusión\n",
    "\n",
    "Utilizamos la precisión como métrica de desempeño ya que los datos estaban balanceados. Debido a que obtuvimos una precisión de 0.40 determinamos que la implementación de un perceptrón de una sola capa no es el mejor para los datos que se están utilizando ya que demuestran que sus características no tienen una relación lineal. Añadiendo a lo anterior, un perceptrón de varias capas ayudaría a encontrar la distribución de los datos y el modelo al que se ajustan."
   ]
  }
 ],
 "metadata": {
  "kernelspec": {
   "display_name": "Python 3",
   "language": "python",
   "name": "python3"
  },
  "language_info": {
   "codemirror_mode": {
    "name": "ipython",
    "version": 3
   },
   "file_extension": ".py",
   "mimetype": "text/x-python",
   "name": "python",
   "nbconvert_exporter": "python",
   "pygments_lexer": "ipython3",
   "version": "3.11.4"
  },
  "orig_nbformat": 4
 },
 "nbformat": 4,
 "nbformat_minor": 2
}
